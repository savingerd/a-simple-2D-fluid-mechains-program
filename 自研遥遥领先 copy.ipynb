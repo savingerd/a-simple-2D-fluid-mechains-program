{
 "cells": [
  {
   "cell_type": "markdown",
   "metadata": {},
   "source": [
    "这是一个二维的流体力学模拟仿真程序（插入必要的库）"
   ]
  },
  {
   "cell_type": "code",
   "execution_count": 1,
   "metadata": {},
   "outputs": [],
   "source": [
    "import matplotlib.pyplot as plt  \n",
    "import numpy as np  \n",
    "from tqdm import tqdm  #进度条库\n",
    "import os"
   ]
  },
  {
   "cell_type": "markdown",
   "metadata": {},
   "source": [
    "设置运行条件"
   ]
  },
  {
   "cell_type": "code",
   "execution_count": 2,
   "metadata": {},
   "outputs": [],
   "source": [
    "N_POINTSX = 50  #X轴线上的网格点数\n",
    "N_POINTSY = 50  #Y轴线上的网格点数\n",
    "DOMAIN_SIZEX = 1.0  #模拟区域X大小\n",
    "DOMAIN_SIZEY = 1.0  #模拟区域Y大小\n",
    "N_ITERATIONS = 500  #迭代次数  \n",
    "TIME_STEP_LENGTH = 0.001  #时间步长\n",
    "KINEMATIC_VISCOSITY = 0.1  #运动粘度 \n",
    "DENSITY = 1.0  #密度\n",
    "\n",
    "N_PRESSURE_POISSON_ITERATIONS = 50  #Poisson迭代的次数  "
   ]
  },
  {
   "cell_type": "markdown",
   "metadata": {},
   "source": [
    "设置场以及场中的矢量与标量"
   ]
  },
  {
   "cell_type": "code",
   "execution_count": 3,
   "metadata": {},
   "outputs": [],
   "source": [
    "def initialize_fields():  \n",
    "    element_length = DOMAIN_SIZEX / (N_POINTSX - 1)\n",
    "    x = np.linspace(0.0, DOMAIN_SIZEX, N_POINTSX)  \n",
    "    y = np.linspace(0.0, DOMAIN_SIZEY, N_POINTSY)  \n",
    "    X, Y = np.meshgrid(x, y)  \n",
    "    u = np.zeros((N_POINTSX, N_POINTSY))  \n",
    "    v = np.zeros((N_POINTSX, N_POINTSY))  \n",
    "    p = np.zeros((N_POINTSX, N_POINTSY))  \n",
    "      \n",
    "    return X, Y, u, v, p, element_length  #element网格间距"
   ]
  },
  {
   "cell_type": "markdown",
   "metadata": {},
   "source": [
    "中心差分计算"
   ]
  },
  {
   "cell_type": "code",
   "execution_count": 4,
   "metadata": {},
   "outputs": [],
   "source": [
    "def central_difference(f, axis, element_length):    \n",
    "    diff = np.zeros_like(f)    \n",
    "    if axis == 'x':    \n",
    "        diff[1:-1, 1:-1] = (f[1:-1, 2:] - f[1:-1, 0:-2]) / (2 * element_length)    \n",
    "    elif axis == 'y':    \n",
    "        diff[1:-1, 1:-1] = (f[2:, 1:-1] - f[0:-2, 1:-1]) / (2 * element_length)    \n",
    "    return diff "
   ]
  },
  {
   "cell_type": "markdown",
   "metadata": {},
   "source": [
    "计算拉普拉斯算子"
   ]
  },
  {
   "cell_type": "code",
   "execution_count": 5,
   "metadata": {},
   "outputs": [],
   "source": [
    "def laplace(f, element_length):    \n",
    "    diff = np.zeros_like(f)    \n",
    "    diff[1:-1, 1:-1] = (f[1:-1, 0:-2] + f[0:-2, 1:-1] - 4 * f[1:-1, 1:-1] + f[1:-1, 2:] + f[2:, 1:-1]) / (element_length**2)    \n",
    "    return diff  "
   ]
  },
  {
   "cell_type": "markdown",
   "metadata": {},
   "source": [
    "设置边界条件"
   ]
  },
  {
   "cell_type": "code",
   "execution_count": 6,
   "metadata": {},
   "outputs": [],
   "source": [
    "def set_boundary_conditions(u, v, p):  \n",
    "    #u=水平速度 v=垂直速度 p=压力\n",
    "    #u[0, :] = 0  #底部水平速度设置\n",
    "    u[:, 0] = 10.0  #左侧水平速度设置\n",
    "    u[:, -1] = -10.0 #右侧水平速度设置 \n",
    "    #u[-1, :] = -10#顶部水平速度设置  \n",
    "    v[0, :] = 10.0  #底部垂直速度设置\n",
    "    #v[:, 0] = -10  #左侧垂直速度设置\n",
    "    #v[:, -1] = 10 #右侧垂直速度设置 \n",
    "    v[-1, :] = -10.0 #底部垂直速度设置\n",
    "    #u[25,0] = 10.0 #设置中间的水平速度为0\n",
    "    #u[25,-1] = -10.0 #设置中间的水平速度为0\n",
    "    #v[25,:] = 0.0 #设置中间的垂直速度为0\n",
    "\n",
    "    p[:, -1] = p[:, -2]  \n",
    "    p[0, :] = p[1, :]  \n",
    "    p[:, 0] = p[:, 1]  \n",
    "    p[-1, :] = 0.0  "
   ]
  },
  {
   "cell_type": "markdown",
   "metadata": {},
   "source": [
    "主程序"
   ]
  },
  {
   "cell_type": "code",
   "execution_count": 7,
   "metadata": {},
   "outputs": [],
   "source": [
    "def main_for_a_point():     \n",
    "    X, Y, u_prev, v_prev, p_prev, element_length = initialize_fields()    \n",
    "    \n",
    "    for _ in tqdm(range(N_ITERATIONS)):    \n",
    "        d_u_prev__d_x = central_difference(u_prev, 'x', element_length)    \n",
    "        d_u_prev__d_y = central_difference(u_prev, 'y', element_length)    \n",
    "        d_v_prev__d_x = central_difference(v_prev, 'x', element_length)    \n",
    "        d_v_prev__d_y = central_difference(v_prev, 'y', element_length)    \n",
    "        laplace__u_prev = laplace(u_prev, element_length)    \n",
    "        laplace__v_prev = laplace(v_prev, element_length)    \n",
    "  \n",
    "        u_tent = u_prev + TIME_STEP_LENGTH * (-(u_prev * d_u_prev__d_x + v_prev * d_u_prev__d_y) + KINEMATIC_VISCOSITY * laplace__u_prev)  \n",
    "        v_tent = v_prev + TIME_STEP_LENGTH * (-(u_prev * d_v_prev__d_x + v_prev * d_v_prev__d_y) + KINEMATIC_VISCOSITY * laplace__v_prev)\n",
    "        set_boundary_conditions(u_tent, v_tent, p_prev)  \n",
    "  \n",
    "        d_u_tent__d_x = central_difference(u_tent, 'x',  element_length)  \n",
    "        d_v_tent__d_y = central_difference(v_tent, 'y',  element_length)  \n",
    "  \n",
    "        rhs = (DENSITY / TIME_STEP_LENGTH) * (d_u_tent__d_x + d_v_tent__d_y)  \n",
    "  \n",
    "        for _ in range(N_PRESSURE_POISSON_ITERATIONS):  \n",
    "            p_next = np.zeros_like(p_prev)  \n",
    "            p_next[1:-1, 1:-1] = 0.25 * (p_prev[1:-1, 0:-2] + p_prev[0:-2, 1:-1] + p_prev[1:-1, 2:] + p_prev[2:, 1:-1] - element_length**2 * rhs[1:-1, 1:-1])  \n",
    "  \n",
    "            p_next[:, -1] = p_next[:, -2]  \n",
    "            p_next[0, :] = p_next[1, :]  \n",
    "            p_next[:, 0] = p_next[:, 1]  \n",
    "            p_next[-1, :] = 0.0  \n",
    "  \n",
    "            p_prev = p_next  \n",
    "  \n",
    "        d_p_next__d_x = central_difference(p_next, 'x', element_length)  \n",
    "        d_p_next__d_y = central_difference(p_next, 'y',  element_length)  \n",
    "  \n",
    "        u_next = u_tent - TIME_STEP_LENGTH / DENSITY * d_p_next__d_x  \n",
    "        v_next = v_tent - TIME_STEP_LENGTH / DENSITY * d_p_next__d_y  \n",
    "  \n",
    "        set_boundary_conditions(u_next, v_next, p_next)  \n",
    "  \n",
    "        u_prev = u_next  \n",
    "        v_prev = v_next  \n",
    "        p_prev = p_next  \n",
    "    \n",
    "    plt.figure()  \n",
    "    #plt.contour(X, Y, p_next)  \n",
    "    #plt.colorbar()  \n",
    "    plt.quiver(X, Y, u_next, v_next, color=\"black\", scale=70, width=0.001)  \n",
    "    save_path = 'my_plot.png'  \n",
    "    plt.savefig(save_path) \n",
    " \n",
    "    plt.close() #显示图像换成plt.show()"
   ]
  },
  {
   "cell_type": "markdown",
   "metadata": {},
   "source": [
    "运行多次主函数，模拟一段时间的流体"
   ]
  },
  {
   "cell_type": "code",
   "execution_count": 8,
   "metadata": {},
   "outputs": [],
   "source": [
    "def main_for_period():     \n",
    "    X, Y, u_prev, v_prev, p_prev, element_length = initialize_fields()\n",
    "    folder_name = 'new_folder'# 定义文件夹的名称\n",
    "    os.makedirs(folder_name, exist_ok=True)# 使用 os.makedirs 创建文件夹,exist_ok=True 参数表示如果文件夹已存在，则不抛出错误\n",
    "    \n",
    "    \n",
    "    for i in range(N_ITERATIONS):    \n",
    "        d_u_prev__d_x = central_difference(u_prev, 'x', element_length)    \n",
    "        d_u_prev__d_y = central_difference(u_prev, 'y', element_length)    \n",
    "        d_v_prev__d_x = central_difference(v_prev, 'x', element_length)    \n",
    "        d_v_prev__d_y = central_difference(v_prev, 'y', element_length)    \n",
    "        laplace__u_prev = laplace(u_prev, element_length)    \n",
    "        laplace__v_prev = laplace(v_prev, element_length)    \n",
    "  \n",
    "        u_tent = u_prev + TIME_STEP_LENGTH * (-(u_prev * d_u_prev__d_x + v_prev * d_u_prev__d_y) + KINEMATIC_VISCOSITY * laplace__u_prev)  \n",
    "        v_tent = v_prev + TIME_STEP_LENGTH * (-(u_prev * d_v_prev__d_x + v_prev * d_v_prev__d_y) + KINEMATIC_VISCOSITY * laplace__v_prev)\n",
    "        set_boundary_conditions(u_tent, v_tent, p_prev)  \n",
    "  \n",
    "        d_u_tent__d_x = central_difference(u_tent, 'x',  element_length)  \n",
    "        d_v_tent__d_y = central_difference(v_tent, 'y',  element_length)  \n",
    "  \n",
    "        rhs = (DENSITY / TIME_STEP_LENGTH) * (d_u_tent__d_x + d_v_tent__d_y)  \n",
    "  \n",
    "        for _ in range(N_PRESSURE_POISSON_ITERATIONS):  \n",
    "            p_next = np.zeros_like(p_prev)  \n",
    "            p_next[1:-1, 1:-1] = 0.25 * (p_prev[1:-1, 0:-2] + p_prev[0:-2, 1:-1] + p_prev[1:-1, 2:] + p_prev[2:, 1:-1] - element_length**2 * rhs[1:-1, 1:-1])  \n",
    "  \n",
    "            p_next[:, -1] = p_next[:, -2]  \n",
    "            p_next[0, :] = p_next[1, :]  \n",
    "            p_next[:, 0] = p_next[:, 1]  \n",
    "            p_next[-1, :] = 0.0  \n",
    "  \n",
    "            p_prev = p_next  \n",
    "  \n",
    "        d_p_next__d_x = central_difference(p_next, 'x', element_length)  \n",
    "        d_p_next__d_y = central_difference(p_next, 'y',  element_length)  \n",
    "  \n",
    "        u_next = u_tent - TIME_STEP_LENGTH / DENSITY * d_p_next__d_x  \n",
    "        v_next = v_tent - TIME_STEP_LENGTH / DENSITY * d_p_next__d_y  \n",
    "  \n",
    "        set_boundary_conditions(u_next, v_next, p_next)  \n",
    "  \n",
    "        u_prev = u_next  \n",
    "        v_prev = v_next  \n",
    "        p_prev = p_next\n",
    "        Z = np.sqrt(u_next**2 + v_next**2)  \n",
    "\n",
    "        plt.figure()  \n",
    "        #plt.contour(X, Y, p_next)  \n",
    "        #plt.colorbar()\n",
    "        plt.contourf(X,Y,Z,100,cmap=plt.cm.get_cmap(\"rainbow\"))  \n",
    "        plt.quiver(X, Y, u_next, v_next, color=\"black\", scale=70, width=0.001)\n",
    "        plt.streamplot(X, Y, u_next, v_next, density=1, color='k',linewidth=0.5)\n",
    "        save_path = 'new_folder/my_plot' + str(i) + '.png'  \n",
    "        plt.savefig(save_path)\n",
    "        plt.close() #显示图像换成plt.show()\n"
   ]
  },
  {
   "cell_type": "markdown",
   "metadata": {},
   "source": [
    "运行"
   ]
  },
  {
   "cell_type": "code",
   "execution_count": 9,
   "metadata": {},
   "outputs": [
    {
     "name": "stderr",
     "output_type": "stream",
     "text": [
      "/tmp/ipykernel_8814/2829841226.py:51: MatplotlibDeprecationWarning: The get_cmap function was deprecated in Matplotlib 3.7 and will be removed two minor releases later. Use ``matplotlib.colormaps[name]`` or ``matplotlib.colormaps.get_cmap(obj)`` instead.\n",
      "  plt.contourf(X,Y,Z,100,cmap=plt.cm.get_cmap(\"rainbow\"))\n"
     ]
    }
   ],
   "source": [
    "main_for_period()"
   ]
  },
  {
   "cell_type": "markdown",
   "metadata": {},
   "source": [
    "画出动图"
   ]
  },
  {
   "cell_type": "code",
   "execution_count": 14,
   "metadata": {},
   "outputs": [
    {
     "name": "stderr",
     "output_type": "stream",
     "text": [
      "/tmp/ipykernel_8814/436048640.py:6: DeprecationWarning: Starting with ImageIO v3 the behavior of this function will switch to that of iio.v3.imread. To keep the current behavior (and make this warning disappear) use `import imageio.v2 as imageio` or call `imageio.v2.imread` directly.\n",
      "  mp4_images.append(imageio.imread('new_folder/my_plot' + str(i) + '.png'))\n"
     ]
    }
   ],
   "source": [
    "import imageio\n",
    "\n",
    "def compose_mp4(N_ITERATIONS):\n",
    "    mp4_images = []\n",
    "    for i in range(0,N_ITERATIONS):\n",
    "        mp4_images.append(imageio.imread('new_folder/my_plot' + str(i) + '.png'))\n",
    "    imageio.mimsave(\"test.mp4\", mp4_images, format='mp4', fps=10)  \n",
    "\n",
    "compose_mp4(N_ITERATIONS)\n"
   ]
  }
 ],
 "metadata": {
  "kernelspec": {
   "display_name": "Python 3",
   "language": "python",
   "name": "python3"
  },
  "language_info": {
   "codemirror_mode": {
    "name": "ipython",
    "version": 3
   },
   "file_extension": ".py",
   "mimetype": "text/x-python",
   "name": "python",
   "nbconvert_exporter": "python",
   "pygments_lexer": "ipython3",
   "version": "3.8.10"
  }
 },
 "nbformat": 4,
 "nbformat_minor": 2
}
